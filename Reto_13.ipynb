{
  "nbformat": 4,
  "nbformat_minor": 0,
  "metadata": {
    "colab": {
      "provenance": []
    },
    "kernelspec": {
      "name": "python3",
      "display_name": "Python 3"
    },
    "language_info": {
      "name": "python"
    }
  },
  "cells": [
    {
      "cell_type": "markdown",
      "source": [
        "##**Punto 1:**"
      ],
      "metadata": {
        "id": "M5ncZiCRn-w7"
      }
    },
    {
      "cell_type": "markdown",
      "source": [
        "**Enunciado:** Desarrollar un algoritmo que imprima de manera ascendente los valores (todos del mismo tipo) de un diccionario."
      ],
      "metadata": {
        "id": "GYtWxhdmoGgC"
      }
    },
    {
      "cell_type": "code",
      "execution_count": null,
      "metadata": {
        "colab": {
          "base_uri": "https://localhost:8080/"
        },
        "id": "OYTkEuHrn7Bb",
        "outputId": "a055c8eb-d76c-4680-c8d0-bfc7d1026520"
      },
      "outputs": [
        {
          "output_type": "stream",
          "name": "stdout",
          "text": [
            "['Ing Industrial', 'María Alejandra', 'sí']\n",
            "[1, 3, 5]\n"
          ]
        }
      ],
      "source": [
        "diccionario={\"nombre\": \"María Alejandra\", \"carrera\": \"Ing Industrial\", \"mascota\": \"sí\"}\n",
        "valores=list(diccionario.values())\n",
        "valores.sort()\n",
        "print(valores)\n",
        "\n",
        "diccionario2={\"nombre\": 5, \"carrera\": 1, \"mascota\": 3}\n",
        "valores2=list(diccionario2.values())\n",
        "valores2.sort()\n",
        "print(valores2)"
      ]
    },
    {
      "cell_type": "markdown",
      "source": [
        "##**Punto 2:**"
      ],
      "metadata": {
        "id": "8jflIQ0zoJpM"
      }
    },
    {
      "cell_type": "markdown",
      "source": [
        "**Enunciado:** Desarrollar una funci�on que reciba dos diccionarios como par�ametros y los mezcle, es decir, que se construya un nuevo diccionario con las llaves de los dos diccionarios; si hay una clave repetida en ambos diccionarios, se debe asignar el valor que tenga la clave en el primer diccionario."
      ],
      "metadata": {
        "id": "ZdoDv-bqoVkA"
      }
    },
    {
      "cell_type": "code",
      "source": [
        "diccionario1={\"nombre\": \"María Alejandra\", \"carrera\": \"Ing Industrial\", \"mascota\": \"sí\"}\n",
        "diccionario2={\"nombre\": \"Matías\", \"color\": \"Magenta\", \"comida\": \"pasta\"}\n",
        "dicc3={}\n",
        "\n",
        "for key, valor in diccionario1.items():\n",
        "  dicc3[key] = valor\n",
        "\n",
        "for key, valor in diccionario2.items():\n",
        "  if key not in dicc3:\n",
        "    dicc3[key] = valor\n",
        "\n",
        "print(dicc3)"
      ],
      "metadata": {
        "id": "xs-2pVT0oLF8",
        "colab": {
          "base_uri": "https://localhost:8080/"
        },
        "outputId": "1725938b-7963-443b-e6f0-c01cf7a5e21c"
      },
      "execution_count": null,
      "outputs": [
        {
          "output_type": "stream",
          "name": "stdout",
          "text": [
            "{'nombre': 'María Alejandra', 'carrera': 'Ing Industrial', 'mascota': 'sí', 'color': 'Magenta', 'comida': 'pasta'}\n"
          ]
        }
      ]
    }
  ]
}